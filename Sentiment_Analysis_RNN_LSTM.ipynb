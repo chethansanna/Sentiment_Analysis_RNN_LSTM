{
  "nbformat": 4,
  "nbformat_minor": 0,
  "metadata": {
    "colab": {
      "name": "Sentiment_Analysis_RNN_LSTM.ipynb",
      "provenance": [],
      "collapsed_sections": []
    },
    "kernelspec": {
      "display_name": "Python 3",
      "language": "python",
      "name": "python3"
    },
    "language_info": {
      "codemirror_mode": {
        "name": "ipython",
        "version": 3
      },
      "file_extension": ".py",
      "mimetype": "text/x-python",
      "name": "python",
      "nbconvert_exporter": "python",
      "pygments_lexer": "ipython3",
      "version": "3.6.3"
    },
    "accelerator": "GPU"
  },
  "cells": [
    {
      "cell_type": "markdown",
      "metadata": {
        "id": "td8Fdk5ygjBZ"
      },
      "source": [
        "# Sentiment Analysis with an RNN\n",
        "\n",
        "The Sentiment Analysis model is implement using a recurrent neural network specifically LSTM (Long Short-Term Memory). \n",
        "\n",
        ">Using an RNN rather than a strictly feedforward network is more accurate since we can include information about the *sequence* of words. \n",
        "\n",
        "### Network Architecture\n",
        "\n",
        "The architecture for this network is shown below.\n",
        "\n",
        "<img src= \"https://drive.google.com/uc?id=1XN5-ODOUQIwX0TYHNcPnHt5a0izrHsnS\" width=40%>\n",
        "\n",
        ">**First, the words are passed to an embedding layer.** We need an embedding layer because we have tens of thousands of words, so we'll need a more efficient representation for our input data than one-hot encoded vectors. Instead of using a pre-trained Word2Vec model, it is good enough to just have an embedding layer and let the network learn a different embedding table on its own. *In this case, the embedding layer is for dimensionality reduction, rather than for learning semantic representations.*\n",
        "\n",
        ">**After input words are passed to an embedding layer, the new embeddings will be passed to LSTM cells.** The LSTM cells will add *recurrent* connections to the network and gives the ability to include information about the *sequence* of words in the movie review data. \n",
        "\n",
        ">**Finally, the LSTM outputs will go to a sigmoid output layer.** Here a sigmoid function is used because positive and negative = 1 and 0, respectively, and a sigmoid will output predicted, sentiment values between 0-1. \n",
        "\n",
        "The only sigmoid output which is interesting for this model is the **very last one**; ignore the rest. Then the loss is calculated by comparing the output at the last time step and the training label (pos or neg)."
      ]
    },
    {
      "cell_type": "code",
      "metadata": {
        "id": "m11P--CdgjBu"
      },
      "source": [
        "import numpy as np\n",
        "\n",
        "import torch\n",
        "import torch.nn as nn\n",
        "from torch.utils.data import TensorDataset, DataLoader\n",
        "\n",
        "from string import punctuation\n",
        "from collections import Counter"
      ],
      "execution_count": 1,
      "outputs": []
    },
    {
      "cell_type": "code",
      "metadata": {
        "colab": {
          "base_uri": "https://localhost:8080/"
        },
        "id": "RtietbKVgjBw",
        "outputId": "cea3047e-f026-4fad-b6f3-b8c38f6ab545"
      },
      "source": [
        "# First checking if GPU is available\n",
        "train_on_gpu=torch.cuda.is_available()\n",
        "\n",
        "if(train_on_gpu):\n",
        "    print('Training on GPU.')\n",
        "else:\n",
        "    print('No GPU available, training on CPU.')"
      ],
      "execution_count": 2,
      "outputs": [
        {
          "output_type": "stream",
          "text": [
            "Training on GPU.\n"
          ],
          "name": "stdout"
        }
      ]
    },
    {
      "cell_type": "markdown",
      "metadata": {
        "id": "8L6uWWY2gjBy"
      },
      "source": [
        "## Data pre-processing\n",
        "\n",
        "The first step when building a neural network model is getting the data into the proper form to feed into the network. Since the embedding layers are used, each word needs to be encoded with an integer.\n",
        "\n",
        "Here the following processing steps are carried out:\n",
        ">* Gettoing rid of periods and extraneous punctuation.\n",
        "* Also, In the data used here, the reviews are delimited with newline characters `\\n`. To deal with those, the text is split into each review using `\\n` as the delimiter. \n",
        "* Then combine all the reviews back together into one big string.\n",
        "* Then got all the text without the newlines and split it into individual words."
      ]
    },
    {
      "cell_type": "code",
      "metadata": {
        "id": "ttBKuzDGgjBz"
      },
      "source": [
        "def preprocessing(reviews):\n",
        "    \n",
        "    # get rid of punctuation\n",
        "    reviews = reviews.lower() # lowercase, standardize\n",
        "    all_text = ''.join([c for c in reviews if c not in punctuation])\n",
        "\n",
        "    # split by new lines and spaces\n",
        "    reviews_split = all_text.split('\\n')\n",
        "    all_text = ' '.join(reviews_split)\n",
        "\n",
        "    # create a list of words\n",
        "    words = all_text.split()\n",
        "    \n",
        "    return words, reviews_split"
      ],
      "execution_count": 3,
      "outputs": []
    },
    {
      "cell_type": "markdown",
      "metadata": {
        "id": "bpI58l12gjB0"
      },
      "source": [
        "### Encoding the words\n",
        "\n",
        "The embedding lookup requires that we pass in integers to our network. The easiest way to do this is to create dictionaries that map the words in the vocabulary to integers. Then convert each review into integers so they can be passed into the network.\n",
        "\n",
        "* For the purpose of padding the input vectors with zeros (which is explained in the latter section), make sure the integers **start at 1, not 0**.\n",
        "* Also, convert the reviews to integers and store the reviews in a new list called `reviews_ints`. "
      ]
    },
    {
      "cell_type": "code",
      "metadata": {
        "id": "fnOy4oZJgjB2"
      },
      "source": [
        "def EncodingWords(words, reviews_split):\n",
        "    ## Build a dictionary that maps words to integers\n",
        "    word_count = Counter(words)\n",
        "    vocab = sorted(word_count, key=word_count.get, reverse=True)\n",
        "    vocab_to_int = {word: pos for pos,word in enumerate(vocab, 1)}\n",
        "\n",
        "    ## use the dict to tokenize each review in reviews_split\n",
        "    ## store the tokenized reviews in reviews_ints\n",
        "    reviews_ints = []\n",
        "    for review in reviews_split:\n",
        "        reviews_ints.append([vocab_to_int[word] for word in review.split()])\n",
        "        \n",
        "    return vocab_to_int, reviews_ints"
      ],
      "execution_count": 4,
      "outputs": []
    },
    {
      "cell_type": "markdown",
      "metadata": {
        "id": "49aywZgigjB3"
      },
      "source": [
        "### Encoding the labels\n",
        "\n",
        "Similar to encoding the words, the labels namely, \"positive\" and \"negative\" are converted to 0 and 1 so that they could be used in our network.\n",
        "\n",
        "* Converted labels from `positive` and `negative` to 1 and 0, respectively, and place those in a new list, `encoded_labels`."
      ]
    },
    {
      "cell_type": "code",
      "metadata": {
        "id": "PP-ncs0LgjB3",
        "scrolled": true
      },
      "source": [
        "# 1=positive, 0=negative label conversion\n",
        "def EncodingLabels(labels):\n",
        "    labels_split = labels.split('\\n')\n",
        "    encoded_labels = np.array([1 if label == 'positive' else 0 for label in labels_split])\n",
        "    \n",
        "    return encoded_labels"
      ],
      "execution_count": 5,
      "outputs": []
    },
    {
      "cell_type": "markdown",
      "metadata": {
        "id": "63xg8NJggjB4"
      },
      "source": [
        "### Removing Outliers\n",
        "\n",
        "As an additional pre-processing step, make sure that the reviews are in good shape for standard processing. That is, the network will expect a standard input text size, and so, the reviews are shaped into a specific length. There are two main steps:\n",
        "\n",
        "1. Getting rid of extremely long or short reviews; the outliers\n",
        "2. Padding/truncating the remaining data so that the reviews will be of the same length."
      ]
    },
    {
      "cell_type": "code",
      "metadata": {
        "id": "hzdXvZQ1gjB5"
      },
      "source": [
        "def RemoveEmptyReviews(encoded_labels, reviews_ints):\n",
        "    ## remove any reviews/labels with zero length from the reviews_ints list.\n",
        "    non_zero_index = [index for index, review in enumerate(reviews_ints) if len(review)!=0]\n",
        "\n",
        "    reviews_ints = [reviews_ints[i] for i in non_zero_index]\n",
        "    encoded_labels = np.array([encoded_labels[i] for i in non_zero_index])\n",
        "    \n",
        "    return encoded_labels, reviews_ints"
      ],
      "execution_count": 6,
      "outputs": []
    },
    {
      "cell_type": "markdown",
      "metadata": {
        "id": "W8RUeyyNgjB6"
      },
      "source": [
        "---\n",
        "## Padding sequences\n",
        "\n",
        "To deal with both short and very long reviews, all the reviews are either padded or truncated to a specific length. For reviews shorter than some `seq_length`, pad with 0s. For reviews longer than `seq_length`, truncate them to the first `seq_length` words. A good `seq_length`, in this case, is 200.\n",
        "\n",
        "> The following function returns an array `features` that contains the padded data, of a standard size, which is then passed to the network. \n",
        "* The data should come from `review_ints`, since the integers are fed to the network. \n",
        "* Each row should be `seq_length` elements long. \n",
        "* For reviews shorter than `seq_length` words, **left pad** with 0s. That is, if the review is `['best', 'movie', 'ever']`, `[117, 18, 128]` as integers, the row will look like `[0, 0, 0, ..., 0, 117, 18, 128]`. \n",
        "* For reviews longer than `seq_length`, use only the first `seq_length` words as the feature vector.\n",
        "\n",
        "\n",
        "**The final `features` array should be a 2D array, with as many rows as there are reviews, and as many columns as the specified `seq_length`.**"
      ]
    },
    {
      "cell_type": "code",
      "metadata": {
        "id": "f5CU_DzZgjB8"
      },
      "source": [
        "def pad_trunc_features(reviews_ints, seq_length):\n",
        "    ''' Return features of review_ints, where each review is padded with 0's \n",
        "        or truncated to the input seq_length.\n",
        "    '''\n",
        "    ## implement function\n",
        "\n",
        "    features= [review[:seq_length] if (len(review) >= seq_length) else ([0]*(seq_length-len(review))+review) for review in reviews_ints]\n",
        "    features = np.array(features).reshape(len(reviews_ints), seq_length)\n",
        "    \n",
        "    return features"
      ],
      "execution_count": 7,
      "outputs": []
    },
    {
      "cell_type": "markdown",
      "metadata": {
        "id": "pmok4XIJgjB-"
      },
      "source": [
        "---\n",
        "## Data splitting, DataLoaders and Batching\n",
        "\n",
        "Splitting the dataset into training, validation and test set is necessary to estimate the performance of the trained model on a dataset which is never seen by the model. In this case, a fraction of dataset is reserved as a 'training' set and the remaining data is split into half thus resulting in 'validation' and 'test' set.\n",
        "\n",
        "After creating training, validation, and test data, the DataLoaders are created for the data by following two steps:\n",
        "1. Create a known format for accessing our data, using [TensorDataset](https://pytorch.org/docs/stable/data.html#) which takes in an input set of data and a target set of data with the same first dimension, and creates a dataset.\n",
        "2. Create DataLoaders and batch our training, validation, and test Tensor datasets.\n",
        "\n",
        "This is an alternative to creating a generator function for batching our data into full batches."
      ]
    },
    {
      "cell_type": "code",
      "metadata": {
        "id": "qm3gp4_-gjB_"
      },
      "source": [
        "def train_val_test_loader(features, encoded_labels, train_frac, batch_size):\n",
        "\n",
        "    ## split data into training, validation, and test data (features and labels, x and y)\n",
        "    train_idx = int(train_frac*len(features))\n",
        "    train_x, remain_x = features[:train_idx], features[train_idx:]\n",
        "    train_y, remain_y = encoded_labels[:train_idx], encoded_labels[train_idx:]\n",
        "\n",
        "    val_test_idx = int(0.5*len(remain_x))\n",
        "    val_x, test_x = remain_x[:val_test_idx], remain_x[val_test_idx:]\n",
        "    val_y, test_y = remain_y[:val_test_idx], remain_y[val_test_idx:]\n",
        "    \n",
        "    ## printing the shapes of your resultant feature data\n",
        "    print('Training set shape: {}'.format(train_x.shape))\n",
        "    print('Validation set shape: {}'.format(val_x.shape))\n",
        "    print('Test set shape: {}'.format(test_x.shape))\n",
        "    \n",
        "    # creating Tensor datasets\n",
        "    train_data = TensorDataset(torch.from_numpy(train_x), torch.from_numpy(train_y))\n",
        "    valid_data = TensorDataset(torch.from_numpy(val_x), torch.from_numpy(val_y))\n",
        "    test_data = TensorDataset(torch.from_numpy(test_x), torch.from_numpy(test_y))\n",
        "\n",
        "    # dataloaders\n",
        "    train_loader = DataLoader(train_data, shuffle=True, batch_size=batch_size)\n",
        "    valid_loader = DataLoader(valid_data, shuffle=True, batch_size=batch_size)\n",
        "    test_loader = DataLoader(test_data, shuffle=True, batch_size=batch_size)\n",
        "\n",
        "\n",
        "    return train_loader, valid_loader, test_loader"
      ],
      "execution_count": 8,
      "outputs": []
    },
    {
      "cell_type": "markdown",
      "metadata": {
        "id": "JWbM8RTYgjCB"
      },
      "source": [
        "---\n",
        "# Sentiment Network with PyTorch\n",
        "\n",
        "Below is the definition of the network.\n",
        "\n",
        "<img src= \"https://drive.google.com/uc?id=1XN5-ODOUQIwX0TYHNcPnHt5a0izrHsnS\" width=40%>\n",
        "\n",
        "The layers are as follows:\n",
        "1. An embedding layer that converts our word tokens (integers) into embeddings of a specific size.\n",
        "2. An LSTM layer defined by a hidden_state size and number of layers\n",
        "3. A fully-connected output layer that maps the LSTM layer outputs to a desired output_size\n",
        "4. A sigmoid activation layer which turns all outputs into a value 0-1; return **only the last sigmoid output** as the output of this network.\n",
        "\n",
        "### The Embedding Layer\n",
        "\n",
        "An embedding layer is needed, because there are 74000+ words in the vocabulary for the dataset used. It is massively inefficient to one-hot encode that many classes. So, instead of one-hot encoding, here an embedding layer is used and which is used as a lookup table. It is also possible to train an embedding layer using Word2Vec, then load it here. But, it's fine to just make a new layer, using it for only dimensionality reduction, and let the network learn the weights.\n",
        "\n",
        "\n",
        "### The LSTM Layer(s)\n",
        "\n",
        "An LSTM is used in this recurrent network, which takes in an input_size, a hidden_dim, a number of layers, a dropout probability (for dropout between multiple layers), and a batch_first parameter.\n",
        "\n",
        "Most of the time, the network will have better performance with more layers; between 2-3. Adding more layers allows the network to learn really complex relationships. \n",
        "\n",
        "Note: `init_hidden` should initialize the hidden and cell state of an lstm layer to all zeros, and move those state to GPU, if available."
      ]
    },
    {
      "cell_type": "code",
      "metadata": {
        "id": "eb_bgoItgjCD"
      },
      "source": [
        "class SentimentRNN(nn.Module):\n",
        "    \"\"\"\n",
        "    The RNN model that will be used to perform Sentiment analysis.\n",
        "    \"\"\"\n",
        "\n",
        "    def __init__(self, vocab_size, output_size, embedding_dim, hidden_dim, n_layers, drop_prob=0.5):\n",
        "        \"\"\"\n",
        "        Initialize the model by setting up the layers.b\n",
        "        \"\"\"\n",
        "        super(SentimentRNN, self).__init__()\n",
        "\n",
        "        self.output_size = output_size\n",
        "        self.n_layers = n_layers\n",
        "        self.hidden_dim = hidden_dim\n",
        "        \n",
        "        # define all layers\n",
        "        self.embed = nn.Embedding(vocab_size, embedding_dim)\n",
        "        self.lstm = nn.LSTM(embedding_dim, hidden_dim, n_layers, dropout=drop_prob, batch_first=True)\n",
        "        self.output = nn.Linear(hidden_dim, output_size)\n",
        "        self.sigmoid = nn.Sigmoid()\n",
        "\n",
        "    def forward(self, input_words, hidden):\n",
        "        \"\"\"\n",
        "        Perform a forward pass of our model on some input and hidden state.\n",
        "        \"\"\"\n",
        "        batch_size = input_words.size(0)\n",
        "        \n",
        "        input_words = input_words.long()\n",
        "        embed_out = self.embed(input_words)\n",
        "        lstm_out, hidden = self.lstm(embed_out, hidden)\n",
        "        \n",
        "        lstm_out = lstm_out.contiguous().view(-1, self.hidden_dim)\n",
        "        \n",
        "        sig_out = self.sigmoid(self.output(lstm_out))\n",
        "        sig_out = sig_out.view(batch_size, -1)\n",
        "        sig_last = sig_out[:,-1]\n",
        "        \n",
        "        # return last sigmoid output and hidden state\n",
        "        return sig_last, hidden\n",
        "    \n",
        "    \n",
        "    def init_hidden(self, batch_size):\n",
        "        ''' Initializes hidden state '''\n",
        "        # Create two new tensors with sizes n_layers x batch_size x hidden_dim,\n",
        "        # initialized to zero, for hidden state and cell state of LSTM\n",
        "        weight = next(self.parameters()).data\n",
        "        \n",
        "        if (train_on_gpu):\n",
        "            hidden = (weight.new(self.n_layers, batch_size, self.hidden_dim).zero_().cuda(),\n",
        "                  weight.new(self.n_layers, batch_size, self.hidden_dim).zero_().cuda())\n",
        "        else:\n",
        "            hidden = (weight.new(self.n_layers, batch_size, self.hidden_dim).zero_(),\n",
        "                      weight.new(self.n_layers, batch_size, self.hidden_dim).zero_())\n",
        "        \n",
        "        return hidden\n",
        "        "
      ],
      "execution_count": 27,
      "outputs": []
    },
    {
      "cell_type": "markdown",
      "metadata": {
        "id": "KjZWB2mZgjCE"
      },
      "source": [
        "---\n",
        "## Training"
      ]
    },
    {
      "cell_type": "code",
      "metadata": {
        "id": "Sv-hCRMLgjCF",
        "scrolled": true
      },
      "source": [
        "def training_validation(net, train_loader, valid_loader, batch_size, epochs, train_on_gpu, \n",
        "                        criterion, optimizer, print_every = 100, clip=5):\n",
        "    \n",
        "    \"\"\" \n",
        "    This function trains and validates the LSTM model with the train and validation loader.\n",
        "    \n",
        "    Here a special kind of entropy loss is used, which is designed to work with a \n",
        "    single Sigmoid output called \"Binary Cross Entropy Loss\", applies cross entropy loss to a single value between 0 and 1.\n",
        "    \"\"\"\n",
        "    # training params \n",
        "    counter = 0\n",
        "\n",
        "    # initialize tracker for minimum validation loss\n",
        "    valid_loss_min = np.Inf\n",
        "    \n",
        "    # move model to GPU, if available\n",
        "    if(train_on_gpu):\n",
        "        net.cuda()\n",
        "\n",
        "    net.train()\n",
        "    # train for some number of epochs\n",
        "    for e in range(epochs):\n",
        "        # initialize hidden state\n",
        "        h = net.init_hidden(batch_size)\n",
        "\n",
        "        # batch loop\n",
        "        for inputs, labels in train_loader:\n",
        "            counter += 1\n",
        "            train_losses = []\n",
        "            if(train_on_gpu):\n",
        "                inputs, labels = inputs.cuda(), labels.cuda()\n",
        "\n",
        "            # Creating new variables for the hidden state, otherwise\n",
        "            # we'd backprop through the entire training history\n",
        "            h = tuple([each.data for each in h])\n",
        "\n",
        "            # zero accumulated gradients\n",
        "            net.zero_grad()\n",
        "\n",
        "            # get the output from the model\n",
        "            output, h = net(inputs, h)\n",
        "\n",
        "            # calculate the loss and perform backprop\n",
        "            loss = criterion(output.squeeze(), labels.float())\n",
        "            train_losses.append(loss.item())\n",
        "            loss.backward()\n",
        "            # `clip_grad_norm` helps prevent the exploding gradient problem in RNNs / LSTMs.\n",
        "            nn.utils.clip_grad_norm_(net.parameters(), clip)\n",
        "            optimizer.step()\n",
        "\n",
        "            # loss stats\n",
        "            if counter % print_every == 0:\n",
        "                # Get validation loss\n",
        "                val_h = net.init_hidden(batch_size)\n",
        "                val_losses = []\n",
        "                net.eval()\n",
        "                for inputs, labels in valid_loader:\n",
        "\n",
        "                    # Creating new variables for the hidden state, otherwise\n",
        "                    # we'd backprop through the entire training history\n",
        "                    val_h = tuple([each.data for each in val_h])\n",
        "\n",
        "                    if(train_on_gpu):\n",
        "                        inputs, labels = inputs.cuda(), labels.cuda()\n",
        "\n",
        "                    output, val_h = net(inputs, val_h)\n",
        "                    val_loss = criterion(output.squeeze(), labels.float())\n",
        "\n",
        "                    val_losses.append(val_loss.item())\n",
        "\n",
        "                if np.mean(val_losses) <= valid_loss_min:\n",
        "#                 print('Validation loss decreased. Saving model ...')\n",
        "                  torch.save(net.state_dict(), 'sentiment_analysis.pt')\n",
        "                  valid_loss_min = np.mean(val_losses)\n",
        "\n",
        "                net.train()\n",
        "                print(\"Epoch: {}/{}...\".format(e+1, epochs),\n",
        "                      \"Step: {}...\".format(counter),\n",
        "                      \"Loss: {:.6f}...\".format(np.mean(train_losses)),\n",
        "                      \"Val Loss: {:.6f}\".format(np.mean(val_losses)))\n",
        "    return net    \n"
      ],
      "execution_count": 10,
      "outputs": []
    },
    {
      "cell_type": "markdown",
      "metadata": {
        "id": "iSNeoMUNgjCF"
      },
      "source": [
        "---\n",
        "## Testing\n"
      ]
    },
    {
      "cell_type": "code",
      "metadata": {
        "id": "zWsnCIBygjCG"
      },
      "source": [
        "def testing(net, test_loader, criterion, batch_size):\n",
        "    \"\"\"\n",
        "    This funtion tests the performance of the trained network with the test data for which the labels already exists\n",
        "    \"\"\"\n",
        "    # Get test data loss and accuracy\n",
        "\n",
        "    test_losses = [] # track loss\n",
        "    num_correct = 0\n",
        "\n",
        "    # init hidden state\n",
        "    h = net.init_hidden(batch_size)\n",
        "\n",
        "    net.eval()\n",
        "    # iterate over test data\n",
        "    for inputs, labels in test_loader:\n",
        "\n",
        "        # Creating new variables for the hidden state, otherwise\n",
        "        # we'd backprop through the entire training history\n",
        "        h = tuple([each.data for each in h])\n",
        "\n",
        "        if(train_on_gpu):\n",
        "            inputs, labels = inputs.cuda(), labels.cuda()\n",
        "\n",
        "        # get predicted outputs\n",
        "        output, h = net(inputs, h)\n",
        "\n",
        "        # calculate loss\n",
        "        test_loss = criterion(output.squeeze(), labels.float())\n",
        "        test_losses.append(test_loss.item())\n",
        "\n",
        "        # convert output probabilities to predicted class (0 or 1)\n",
        "        pred = torch.round(output.squeeze())  # rounds to the nearest integer\n",
        "\n",
        "        # compare predictions to true label\n",
        "        correct_tensor = pred.eq(labels.float().view_as(pred))\n",
        "        correct = np.squeeze(correct_tensor.numpy()) if not train_on_gpu else np.squeeze(correct_tensor.cpu().numpy())\n",
        "        num_correct += np.sum(correct)\n",
        "\n",
        "    # accuracy over all test data\n",
        "    test_acc = num_correct/len(test_loader.dataset)\n",
        "    \n",
        "    return test_losses, test_acc"
      ],
      "execution_count": 11,
      "outputs": []
    },
    {
      "cell_type": "markdown",
      "metadata": {
        "id": "se12jNydgjCG"
      },
      "source": [
        "# Sentiment Analysis"
      ]
    },
    {
      "cell_type": "markdown",
      "metadata": {
        "id": "2NzXb4cYgjCH"
      },
      "source": [
        "### Loading data"
      ]
    },
    {
      "cell_type": "code",
      "metadata": {
        "colab": {
          "base_uri": "https://localhost:8080/"
        },
        "id": "7-esKWitgjCH",
        "outputId": "2bbd372b-c1f5-4a40-8575-2ee227b3b2f3"
      },
      "source": [
        "# read data from text files\n",
        "with open('reviews.txt', 'r') as f:\n",
        "    reviews = f.read()\n",
        "with open('labels.txt', 'r') as f:\n",
        "    labels = f.read()\n",
        "    \n",
        "print(reviews[:1000])\n",
        "print()\n",
        "print(labels[:18])"
      ],
      "execution_count": 13,
      "outputs": [
        {
          "output_type": "stream",
          "text": [
            "bromwell high is a cartoon comedy . it ran at the same time as some other programs about school life  such as  teachers  . my   years in the teaching profession lead me to believe that bromwell high  s satire is much closer to reality than is  teachers  . the scramble to survive financially  the insightful students who can see right through their pathetic teachers  pomp  the pettiness of the whole situation  all remind me of the schools i knew and their students . when i saw the episode in which a student repeatedly tried to burn down the school  i immediately recalled . . . . . . . . . at . . . . . . . . . . high . a classic line inspector i  m here to sack one of your teachers . student welcome to bromwell high . i expect that many adults of my age think that bromwell high is far fetched . what a pity that it isn  t   \n",
            "story of a man who has unnatural feelings for a pig . starts out with a opening scene that is a terrific example of absurd comedy . a formal orchestra audience is turn\n",
            "\n",
            "positive\n",
            "negative\n",
            "\n"
          ],
          "name": "stdout"
        }
      ]
    },
    {
      "cell_type": "markdown",
      "metadata": {
        "id": "XkmkrzilgjCI"
      },
      "source": [
        "### Data pre-processing"
      ]
    },
    {
      "cell_type": "code",
      "metadata": {
        "colab": {
          "base_uri": "https://localhost:8080/"
        },
        "id": "QboFSEcdgjCJ",
        "scrolled": true,
        "outputId": "8199e0f7-1dd4-4706-b0c2-f84e7d046926"
      },
      "source": [
        "words, reviews_split = preprocessing(reviews)\n",
        "\n",
        "vocab_to_int, reviews_ints = EncodingWords(words, reviews_split)\n",
        "\n",
        "# stats about vocabulary\n",
        "print('Unique words: ', len((vocab_to_int)))\n",
        "print()\n",
        "# print tokens in first review\n",
        "print('Tokenized review: \\n', reviews_ints[:1])\n",
        "\n",
        "encoded_labels = EncodingLabels(labels)\n",
        "\n",
        "# outlier review stats\n",
        "review_lens = Counter([len(x) for x in reviews_ints])\n",
        "print(\"Zero-length reviews: {}\".format(review_lens[0]))\n",
        "print(\"Maximum review length: {}\".format(max(review_lens)))"
      ],
      "execution_count": 14,
      "outputs": [
        {
          "output_type": "stream",
          "text": [
            "Unique words:  74072\n",
            "\n",
            "Tokenized review: \n",
            " [[21025, 308, 6, 3, 1050, 207, 8, 2138, 32, 1, 171, 57, 15, 49, 81, 5785, 44, 382, 110, 140, 15, 5194, 60, 154, 9, 1, 4975, 5852, 475, 71, 5, 260, 12, 21025, 308, 13, 1978, 6, 74, 2395, 5, 613, 73, 6, 5194, 1, 24103, 5, 1983, 10166, 1, 5786, 1499, 36, 51, 66, 204, 145, 67, 1199, 5194, 19869, 1, 37442, 4, 1, 221, 883, 31, 2988, 71, 4, 1, 5787, 10, 686, 2, 67, 1499, 54, 10, 216, 1, 383, 9, 62, 3, 1406, 3686, 783, 5, 3483, 180, 1, 382, 10, 1212, 13583, 32, 308, 3, 349, 341, 2913, 10, 143, 127, 5, 7690, 30, 4, 129, 5194, 1406, 2326, 5, 21025, 308, 10, 528, 12, 109, 1448, 4, 60, 543, 102, 12, 21025, 308, 6, 227, 4146, 48, 3, 2211, 12, 8, 215, 23]]\n",
            "Zero-length reviews: 1\n",
            "Maximum review length: 2514\n"
          ],
          "name": "stdout"
        }
      ]
    },
    {
      "cell_type": "code",
      "metadata": {
        "colab": {
          "base_uri": "https://localhost:8080/"
        },
        "id": "HC9QvOPJgjCK",
        "outputId": "41e9c909-916a-44ce-d509-d1f2166bcccb"
      },
      "source": [
        "if review_lens[0]>0:\n",
        "    \n",
        "    \"\"\"\n",
        "    If there are any reviews with zero length, then the following steps will remove those reviews. \n",
        "    This process thus removes outliers if any and allow the model to train more efficiently.\n",
        "    \n",
        "    Removing any reviews with zero length from the 'reviews_ints' list and their corresponding label in 'encoded_labels'.\n",
        "    \"\"\"\n",
        "    print('Number of reviews before removing outliers: ', len(reviews_ints))\n",
        "    encoded_labels, reviews_ints = RemoveEmptyReviews(encoded_labels, reviews_ints)\n",
        "    print('Number of reviews after removing outliers: ', len(reviews_ints))"
      ],
      "execution_count": 15,
      "outputs": [
        {
          "output_type": "stream",
          "text": [
            "Number of reviews before removing outliers:  25001\n",
            "Number of reviews after removing outliers:  25000\n"
          ],
          "name": "stdout"
        }
      ]
    },
    {
      "cell_type": "code",
      "metadata": {
        "colab": {
          "base_uri": "https://localhost:8080/"
        },
        "id": "UVuWJUIagjCL",
        "outputId": "f2b0ae15-3d3e-4b17-a1de-d04a000b7218"
      },
      "source": [
        "# Padding and truncating the reviews to match a specific sequence_length\n",
        "\n",
        "\"\"\"\n",
        "If the maximum review length is way too many steps for our RNN, then the following steps will truncate \n",
        "any super long reviews. This removes outliers and should allow the model to train more efficiently.\n",
        "\n",
        "Removing any reviews with zero length from the 'reviews_ints' list and their corresponding label in 'encoded_labels'.\n",
        "\"\"\"\n",
        "seq_length = 200\n",
        "\n",
        "features = pad_trunc_features(reviews_ints, seq_length)\n",
        "\n",
        "## test statements \n",
        "assert len(features)==len(reviews_ints), \"Your features should have as many rows as reviews.\"\n",
        "assert len(features[0])==seq_length, \"Each feature row should contain seq_length values.\"\n",
        "\n",
        "# print first 10 values of the first 30 batches \n",
        "print(features[:30,:10])"
      ],
      "execution_count": 16,
      "outputs": [
        {
          "output_type": "stream",
          "text": [
            "[[    0     0     0     0     0     0     0     0     0     0]\n",
            " [    0     0     0     0     0     0     0     0     0     0]\n",
            " [22382    42 46418    15   706 17139  3389    47    77    35]\n",
            " [ 4505   505    15     3  3342   162  8312  1652     6  4819]\n",
            " [    0     0     0     0     0     0     0     0     0     0]\n",
            " [    0     0     0     0     0     0     0     0     0     0]\n",
            " [    0     0     0     0     0     0     0     0     0     0]\n",
            " [    0     0     0     0     0     0     0     0     0     0]\n",
            " [    0     0     0     0     0     0     0     0     0     0]\n",
            " [   54    10    14   116    60   798   552    71   364     5]\n",
            " [    0     0     0     0     0     0     0     0     0     0]\n",
            " [    0     0     0     0     0     0     0     0     0     0]\n",
            " [    0     0     0     0     0     0     0     0     0     0]\n",
            " [    1   330   578    34     3   162   748  2731     9   325]\n",
            " [    9    11 10171  5305  1946   689   444    22   280   673]\n",
            " [    0     0     0     0     0     0     0     0     0     0]\n",
            " [    1   307 10399  2069  1565  6202  6528  3288 17946 10628]\n",
            " [    0     0     0     0     0     0     0     0     0     0]\n",
            " [   21   122  2069  1565   515  8181    88     6  1325  1182]\n",
            " [    1    20     6    76    40     6    58    81    95     5]\n",
            " [   54    10    84   329 26230 46427    63    10    14   614]\n",
            " [   11    20     6    30  1436 32317  3769   690 15100     6]\n",
            " [    0     0     0     0     0     0     0     0     0     0]\n",
            " [    0     0     0     0     0     0     0     0     0     0]\n",
            " [   40    26   109 17952  1422     9     1   327     4   125]\n",
            " [    0     0     0     0     0     0     0     0     0     0]\n",
            " [   10   499     1   307 10399    55    74     8    13    30]\n",
            " [    0     0     0     0     0     0     0     0     0     0]\n",
            " [    0     0     0     0     0     0     0     0     0     0]\n",
            " [    0     0     0     0     0     0     0     0     0     0]]\n"
          ],
          "name": "stdout"
        }
      ]
    },
    {
      "cell_type": "markdown",
      "metadata": {
        "id": "xFMl8tl6gjCM"
      },
      "source": [
        "# Splitting the dataset"
      ]
    },
    {
      "cell_type": "code",
      "metadata": {
        "colab": {
          "base_uri": "https://localhost:8080/"
        },
        "id": "XBh6f6oKgjCN",
        "outputId": "2d3318dd-e528-454e-81aa-02c129304578"
      },
      "source": [
        "train_frac=0.80   # The fraction of the data which will be alloted for training the data. Remaining data will be split into half for validation and test set.\n",
        "batch_size = 50\n",
        "train_loader, valid_loader, test_loader = train_val_test_loader(features, encoded_labels, train_frac, batch_size)\n",
        "\n",
        "# obtain one batch of training data\n",
        "dataiter = iter(train_loader)\n",
        "sample_x, sample_y = dataiter.next()\n",
        "\n",
        "print('Sample input size: ', sample_x.size()) # batch_size, seq_length\n",
        "print('Sample input: \\n', sample_x)\n",
        "print()\n",
        "print('Sample label size: ', sample_y.size()) # batch_size\n",
        "print('Sample label: \\n', sample_y)"
      ],
      "execution_count": 17,
      "outputs": [
        {
          "output_type": "stream",
          "text": [
            "Training set shape: (20000, 200)\n",
            "Validation set shape: (2500, 200)\n",
            "Test set shape: (2500, 200)\n",
            "Sample input size:  torch.Size([50, 200])\n",
            "Sample input: \n",
            " tensor([[   0,    0,    0,  ...,  710,    2,  583],\n",
            "        [   0,    0,    0,  ...,   12,  165, 2581],\n",
            "        [   0,    0,    0,  ...,   18,    7,    7],\n",
            "        ...,\n",
            "        [   0,    0,    0,  ...,   85, 4082,  222],\n",
            "        [1378, 1011,    7,  ...,    9,   41, 1580],\n",
            "        [   0,    0,    0,  ...,   57,  148,    8]])\n",
            "\n",
            "Sample label size:  torch.Size([50])\n",
            "Sample label: \n",
            " tensor([1, 1, 1, 1, 1, 1, 1, 1, 1, 1, 0, 0, 0, 1, 1, 0, 0, 0, 0, 1, 0, 0, 0, 1,\n",
            "        1, 1, 0, 1, 1, 0, 1, 1, 0, 0, 0, 0, 0, 0, 1, 0, 0, 1, 0, 1, 0, 0, 0, 0,\n",
            "        1, 0])\n"
          ],
          "name": "stdout"
        }
      ]
    },
    {
      "cell_type": "markdown",
      "metadata": {
        "id": "6vY8cRL_gjCN"
      },
      "source": [
        "# Training, Validating and Testing the LSTM model"
      ]
    },
    {
      "cell_type": "code",
      "metadata": {
        "colab": {
          "base_uri": "https://localhost:8080/"
        },
        "id": "i8HpEfT1gjCO",
        "scrolled": false,
        "outputId": "073155b8-a7f6-4492-9217-afee9b56fdfa"
      },
      "source": [
        "# Instantiate the model w/ hyperparams\n",
        "\n",
        "vocab_size = len(vocab_to_int)+1   #Size of our vocabulary or the range of values for our input, word tokens.\n",
        "output_size = 1    # Size of our desired output; the number of class scores we want to output (pos/neg). \n",
        "embedding_dim = 300 # Number of columns in the embedding lookup table; size of our embeddings.\n",
        "hidden_dim = 256   # Number of units in the hidden layers of our LSTM cells. Usually larger is better performance wise. Common values are 128, 256, 512, etc.\n",
        "n_layers = 3   # Number of LSTM layers in the network. Typically between 1-3\n",
        "lr=0.00015 # Learning rate for the optimizer.\n",
        "epochs = 5   # Number of times to iterate through the training dataset.\n",
        "clip = 5   # The maximum gradient value to clip at (to prevent exploding gradients).\n",
        "print_every = 200   # Print the training and validation loss for every particular number of steps\n",
        "drop_prob = 0.45\n",
        "\n",
        "net = SentimentRNN(vocab_size, output_size, embedding_dim, hidden_dim, n_layers, drop_prob=drop_prob)\n",
        "\n",
        "print('The Network architecture of Sentiment Analysis model is: \\n\\n', net)\n",
        "\n",
        "# loss and optimization functions\n",
        "\n",
        "criterion = nn.BCELoss()\n",
        "optimizer = torch.optim.Adam(net.parameters(), lr=lr)\n",
        "\n",
        "print('\\n\\nTraining and validation has begun: \\n\\n')\n",
        "net = training_validation(net, train_loader, valid_loader, batch_size, epochs, train_on_gpu, \n",
        "                          criterion, optimizer, print_every, clip)\n",
        "\n",
        "print('\\n\\nTesting has begun: \\n\\n')\n",
        "test_losses, test_acc = testing(net, test_loader, criterion, batch_size)\n",
        "\n",
        "print(\"\\t Test loss: {:.3f}\".format(np.mean(test_losses)))\n",
        "print(\"\\t Test accuracy: {:.3f}\".format(test_acc))"
      ],
      "execution_count": 30,
      "outputs": [
        {
          "output_type": "stream",
          "text": [
            "The Network architecture of Sentiment Analysis model is: \n",
            "\n",
            " SentimentRNN(\n",
            "  (embed): Embedding(74073, 300)\n",
            "  (lstm): LSTM(300, 256, num_layers=3, batch_first=True, dropout=0.45)\n",
            "  (output): Linear(in_features=256, out_features=1, bias=True)\n",
            "  (sigmoid): Sigmoid()\n",
            ")\n",
            "\n",
            "\n",
            "Training and validation has begun: \n",
            "\n",
            "\n",
            "Epoch: 1/5... Step: 200... Loss: 0.547504... Val Loss: 0.586342\n",
            "Epoch: 1/5... Step: 400... Loss: 0.599924... Val Loss: 0.527879\n",
            "Epoch: 2/5... Step: 600... Loss: 0.613822... Val Loss: 0.558392\n",
            "Epoch: 2/5... Step: 800... Loss: 0.374181... Val Loss: 0.452838\n",
            "Epoch: 3/5... Step: 1000... Loss: 0.337049... Val Loss: 0.486345\n",
            "Epoch: 3/5... Step: 1200... Loss: 0.304758... Val Loss: 0.439330\n",
            "Epoch: 4/5... Step: 1400... Loss: 0.206904... Val Loss: 0.471228\n",
            "Epoch: 4/5... Step: 1600... Loss: 0.387008... Val Loss: 0.439708\n",
            "Epoch: 5/5... Step: 1800... Loss: 0.230577... Val Loss: 0.464881\n",
            "Epoch: 5/5... Step: 2000... Loss: 0.336348... Val Loss: 0.456677\n",
            "\n",
            "\n",
            "Testing has begun: \n",
            "\n",
            "\n",
            "\t Test loss: 0.472\n",
            "\t Test accuracy: 0.815\n"
          ],
          "name": "stdout"
        }
      ]
    },
    {
      "cell_type": "markdown",
      "metadata": {
        "id": "3aKU2fKrgjCQ"
      },
      "source": [
        "### Inference on a test review\n",
        "\n",
        "To check if the trained model predicts the correct type of review for any given text. The text used for inference was never used for training, validating or testing the model.\n"
      ]
    },
    {
      "cell_type": "code",
      "metadata": {
        "id": "DZnzMMotgjCR"
      },
      "source": [
        "def infer_preprocessing(reviews, sequence_length):\n",
        "    reviews = reviews.lower() # lowercase, standardize\n",
        "    all_text = ''.join([c for c in reviews if c not in punctuation])\n",
        "\n",
        "    # create a list of words\n",
        "    words = all_text.split()\n",
        "    \n",
        "    ## Build a dictionary that maps words to integers\n",
        "    word_count = Counter(words)\n",
        "    vocab = sorted(word_count, key=word_count.get, reverse=True)\n",
        "    vocab_to_int = {word: pos for pos,word in enumerate(vocab, 1)}\n",
        "\n",
        "    ## use the dict to tokenize each review in reviews_split\n",
        "    ## store the tokenized reviews in reviews_ints\n",
        "    reviews_ints = []\n",
        "    reviews_ints.append([vocab_to_int[word] for word in words])\n",
        "        \n",
        "    # Trim the review according to the sequence length\n",
        "    features = pad_trunc_features(reviews_ints, seq_length=sequence_length)\n",
        "    \n",
        "    return features"
      ],
      "execution_count": 19,
      "outputs": []
    },
    {
      "cell_type": "code",
      "metadata": {
        "id": "hjsk5H7hgjCR"
      },
      "source": [
        "def predict(net, test_review, sequence_length=200):\n",
        "    ''' Prints out whether a give review is predicted to be \n",
        "        positive or negative in sentiment, using a trained model.\n",
        "        \n",
        "        params:\n",
        "        net - A trained net \n",
        "        test_review - a review made of normal text and punctuation\n",
        "        sequence_length - the padded length of a review\n",
        "        '''\n",
        "    \n",
        "    \n",
        "    # print custom response based on whether test_review is pos/neg\n",
        "    net.eval()\n",
        "    \n",
        "    features = infer_preprocessing(test_review, sequence_length)\n",
        "    \n",
        "    # convert to tensor to pass into your model\n",
        "    feature_tensor = torch.from_numpy(features)\n",
        "    batch_size = feature_tensor.size(0)\n",
        "    \n",
        "    # init hidden state\n",
        "    h = net.init_hidden(batch_size)\n",
        "    \n",
        "    if(train_on_gpu):\n",
        "        feature_tensor = feature_tensor.cuda()\n",
        "    \n",
        "    # get predicted outputs\n",
        "    output, h = net(feature_tensor, h)\n",
        "    \n",
        "    # convert output probabilities to predicted class (0 or 1)\n",
        "    pred = torch.round(output.squeeze())\n",
        "    \n",
        "    # print custom response\n",
        "    if(pred.item()==1):\n",
        "        return \"Positive review. \\t Prediction value, pre-rounding: {:.6f}\".format(output.item())\n",
        "    else:\n",
        "        return \"Negative review. \\t Prediction value, pre-rounding: {:.6f}\".format(output.item())"
      ],
      "execution_count": 20,
      "outputs": []
    },
    {
      "cell_type": "code",
      "metadata": {
        "id": "lrn7IYHcgjCS"
      },
      "source": [
        "# List of reviews for testing\n",
        "seq_length=200\n",
        "\n",
        "review1 = 'This movie had the best acting and the dialogue was so good. I loved it.'\n",
        "review2 = 'The worst movie I have seen; acting was terrible and I want my money back.'\n",
        "review3 = 'a big, brashly beautiful, grandiosely enjoyable one'\n",
        "review4 = 'the story isn’t very interesting or original , the plot is formulaic, the characters are boring and stereotypical '\n",
        "review5 = 'a great movie,  appealing to audience of every age.'"
      ],
      "execution_count": 21,
      "outputs": []
    },
    {
      "cell_type": "code",
      "metadata": {
        "colab": {
          "base_uri": "https://localhost:8080/"
        },
        "id": "q8eZOB40gjCS",
        "outputId": "b08a0ebf-f19a-43f0-9f20-b0270cc63d13"
      },
      "source": [
        "print('Ground truth: Positive review. Prediction: ', predict(net, review1, seq_length))\n",
        "print('\\nGround truth: Negative review. Prediction: ', predict(net, review2, seq_length))\n",
        "print('\\nGround truth: Positive review. Prediction: ', predict(net, review3, seq_length))\n",
        "print('\\nGround truth: Negative review. Prediction: ', predict(net, review4, seq_length))\n",
        "print('\\nGround truth: Positive review. Prediction: ', predict(net, review5, seq_length))"
      ],
      "execution_count": 32,
      "outputs": [
        {
          "output_type": "stream",
          "text": [
            "Ground truth: Positive review. Prediction:  Positive review. \t Prediction value, pre-rounding: 0.520384\n",
            "\n",
            "Ground truth: Negative review. Prediction:  Negative review. \t Prediction value, pre-rounding: 0.475639\n",
            "\n",
            "Ground truth: Positive review. Prediction:  Positive review. \t Prediction value, pre-rounding: 0.710473\n",
            "\n",
            "Ground truth: Negative review. Prediction:  Negative review. \t Prediction value, pre-rounding: 0.498521\n",
            "\n",
            "Ground truth: Positive review. Prediction:  Positive review. \t Prediction value, pre-rounding: 0.724536\n"
          ],
          "name": "stdout"
        }
      ]
    },
    {
      "cell_type": "code",
      "metadata": {
        "id": "E1T3-3vPvoIs"
      },
      "source": [
        ""
      ],
      "execution_count": null,
      "outputs": []
    },
    {
      "cell_type": "code",
      "metadata": {
        "id": "p7VT2WHpvn0h"
      },
      "source": [
        ""
      ],
      "execution_count": null,
      "outputs": []
    },
    {
      "cell_type": "code",
      "metadata": {
        "id": "4RZQFWmzpeAE"
      },
      "source": [
        ""
      ],
      "execution_count": null,
      "outputs": []
    },
    {
      "cell_type": "code",
      "metadata": {
        "id": "ceSalBoogjCY"
      },
      "source": [
        ""
      ],
      "execution_count": null,
      "outputs": []
    }
  ]
}